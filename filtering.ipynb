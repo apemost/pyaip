{
 "cells": [
  {
   "cell_type": "code",
   "execution_count": 1,
   "metadata": {},
   "outputs": [],
   "source": [
    "from lark import Lark"
   ]
  },
  {
   "cell_type": "code",
   "execution_count": 2,
   "metadata": {},
   "outputs": [],
   "source": [
    "parser = Lark.open(\"./filtering.lark\", rel_to=\".\", start=\"filter\")"
   ]
  },
  {
   "cell_type": "code",
   "execution_count": 3,
   "metadata": {},
   "outputs": [
    {
     "name": "stdout",
     "output_type": "stream",
     "text": [
      "filter\n",
      "  expression\n",
      "    sequence\n",
      "      factor\n",
      "        term\n",
      "          simple\n",
      "            restriction\n",
      "              comparable\n",
      "                member\ta\n",
      "       \n",
      "      factor\n",
      "        term\n",
      "          simple\n",
      "            restriction\n",
      "              comparable\n",
      "                member\tb\n",
      "     \n",
      "    AND\n",
      "     \n",
      "    sequence\n",
      "      factor\n",
      "        term\n",
      "          simple\n",
      "            restriction\n",
      "              comparable\n",
      "                member\tc\n",
      "     \n",
      "    AND\n",
      "     \n",
      "    sequence\n",
      "      factor\n",
      "        term\n",
      "          simple\n",
      "            restriction\n",
      "              comparable\n",
      "                member\td\n",
      "\n"
     ]
    }
   ],
   "source": [
    "print(parser.parse(\"a b AND c AND d\").pretty())"
   ]
  },
  {
   "cell_type": "code",
   "execution_count": 4,
   "metadata": {},
   "outputs": [
    {
     "name": "stdout",
     "output_type": "stream",
     "text": [
      "filter\n",
      "  expression\n",
      "    sequence\n",
      "      factor\n",
      "        term\n",
      "          simple\n",
      "            restriction\n",
      "              comparable\n",
      "                member\tNew\n",
      "       \n",
      "      factor\n",
      "        term\n",
      "          simple\n",
      "            restriction\n",
      "              comparable\n",
      "                member\tYork\n",
      "       \n",
      "      factor\n",
      "        term\n",
      "          simple\n",
      "            restriction\n",
      "              comparable\n",
      "                member\tGiants\n",
      "         \n",
      "        OR\n",
      "         \n",
      "        term\n",
      "          simple\n",
      "            restriction\n",
      "              comparable\n",
      "                member\tYankees\n",
      "\n"
     ]
    }
   ],
   "source": [
    "print(parser.parse(\"New York Giants OR Yankees\").pretty())"
   ]
  },
  {
   "cell_type": "code",
   "execution_count": 5,
   "metadata": {},
   "outputs": [
    {
     "name": "stdout",
     "output_type": "stream",
     "text": [
      "filter\n",
      "  expression\n",
      "    sequence\n",
      "      factor\n",
      "        term\n",
      "          simple\n",
      "            restriction\n",
      "              comparable\n",
      "                member\ta\n",
      "              comparator\t<\n",
      "              arg\n",
      "                comparable\n",
      "                  member\t10\n",
      "         \n",
      "        OR\n",
      "         \n",
      "        term\n",
      "          simple\n",
      "            restriction\n",
      "              comparable\n",
      "                member\ta\n",
      "              comparator\t>=\n",
      "              arg\n",
      "                comparable\n",
      "                  member\t100\n",
      "\n"
     ]
    }
   ],
   "source": [
    "print(parser.parse(\"a < 10 OR a >= 100\").pretty())"
   ]
  },
  {
   "cell_type": "code",
   "execution_count": 6,
   "metadata": {},
   "outputs": [
    {
     "name": "stdout",
     "output_type": "stream",
     "text": [
      "filter\n",
      "  expression\n",
      "    sequence\n",
      "      factor\n",
      "        term\n",
      "          NOT\n",
      "           \n",
      "          simple\n",
      "            composite\n",
      "              expression\n",
      "                sequence\n",
      "                  factor\n",
      "                    term\n",
      "                      simple\n",
      "                        restriction\n",
      "                          comparable\n",
      "                            member\ta\n",
      "                     \n",
      "                    OR\n",
      "                     \n",
      "                    term\n",
      "                      simple\n",
      "                        restriction\n",
      "                          comparable\n",
      "                            member\tb\n",
      "\n"
     ]
    }
   ],
   "source": [
    "print(parser.parse(\"NOT (a OR b)\").pretty())"
   ]
  },
  {
   "cell_type": "code",
   "execution_count": 7,
   "metadata": {},
   "outputs": [
    {
     "name": "stdout",
     "output_type": "stream",
     "text": [
      "filter\n",
      "  expression\n",
      "    sequence\n",
      "      factor\n",
      "        term\n",
      "          simple\n",
      "            restriction\n",
      "              comparable\n",
      "                member\tfile\n",
      "              comparator\t:\n",
      "              arg\n",
      "                comparable\n",
      "                  member\t\".java\"\n",
      "\n"
     ]
    }
   ],
   "source": [
    "print(parser.parse('-file:\".java\"').pretty())"
   ]
  },
  {
   "cell_type": "code",
   "execution_count": 8,
   "metadata": {},
   "outputs": [
    {
     "name": "stdout",
     "output_type": "stream",
     "text": [
      "filter\n",
      "  expression\n",
      "    sequence\n",
      "      factor\n",
      "        term\n",
      "          simple\n",
      "            restriction\n",
      "              comparable\n",
      "                member\n",
      "                  experiment\n",
      "                  field\trollout\n",
      "              comparator\t<=\n",
      "              arg\n",
      "                comparable\n",
      "                  function\n",
      "                    name\tcohort\n",
      "                    arglist\n",
      "                      arg\n",
      "                        comparable\n",
      "                          member\n",
      "                            request\n",
      "                            field\tuser\n",
      "\n"
     ]
    }
   ],
   "source": [
    "print(parser.parse(\"experiment.rollout <= cohort(request.user)\").pretty())"
   ]
  },
  {
   "cell_type": "code",
   "execution_count": 9,
   "metadata": {},
   "outputs": [
    {
     "name": "stdout",
     "output_type": "stream",
     "text": [
      "filter\n",
      "  expression\n",
      "    sequence\n",
      "      factor\n",
      "        term\n",
      "          simple\n",
      "            restriction\n",
      "              comparable\n",
      "                function\n",
      "                  name\tregex\n",
      "                  arglist\n",
      "                    arg\n",
      "                      comparable\n",
      "                        member\n",
      "                          m\n",
      "                          field\tkey\n",
      "                    arg\n",
      "                      comparable\n",
      "                        member\t'^.*prod.*$'\n",
      "\n"
     ]
    }
   ],
   "source": [
    "print(parser.parse(\"regex(m.key, '^.*prod.*$')\").pretty())"
   ]
  },
  {
   "cell_type": "code",
   "execution_count": 10,
   "metadata": {},
   "outputs": [
    {
     "name": "stdout",
     "output_type": "stream",
     "text": [
      "filter\n",
      "  expression\n",
      "    sequence\n",
      "      factor\n",
      "        term\n",
      "          simple\n",
      "            composite\n",
      "              expression\n",
      "                sequence\n",
      "                  factor\n",
      "                    term\n",
      "                      simple\n",
      "                        restriction\n",
      "                          comparable\n",
      "                            function\n",
      "                              name\tmsg\n",
      "                              name\tendsWith\n",
      "                              arglist\n",
      "                                arg\n",
      "                                  comparable\n",
      "                                    member\t'world'\n",
      "                 \n",
      "                AND\n",
      "                 \n",
      "                sequence\n",
      "                  factor\n",
      "                    term\n",
      "                      simple\n",
      "                        restriction\n",
      "                          comparable\n",
      "                            member\tretries\n",
      "                          comparator\t<\n",
      "                          arg\n",
      "                            comparable\n",
      "                              member\t10\n",
      "\n"
     ]
    }
   ],
   "source": [
    "print(parser.parse(\"(msg.endsWith('world') AND retries < 10)\").pretty())"
   ]
  },
  {
   "cell_type": "code",
   "execution_count": null,
   "metadata": {},
   "outputs": [],
   "source": []
  }
 ],
 "metadata": {
  "kernelspec": {
   "display_name": "apemost",
   "language": "python",
   "name": "python3"
  },
  "language_info": {
   "codemirror_mode": {
    "name": "ipython",
    "version": 3
   },
   "file_extension": ".py",
   "mimetype": "text/x-python",
   "name": "python",
   "nbconvert_exporter": "python",
   "pygments_lexer": "ipython3",
   "version": "3.11.2"
  },
  "orig_nbformat": 4
 },
 "nbformat": 4,
 "nbformat_minor": 2
}
